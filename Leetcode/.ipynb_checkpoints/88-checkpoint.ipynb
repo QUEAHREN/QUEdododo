{
 "cells": [
  {
   "cell_type": "markdown",
   "id": "e0dd7b98",
   "metadata": {},
   "source": [
    "# 88. 合并两个有序数组\n",
    "给你两个按 非递减顺序 排列的整数数组 nums1 和 nums2，另有两个整数 m 和 n ，分别表示 nums1 和 nums2 中的元素数目。\n",
    "\n",
    "请你 合并 nums2 到 nums1 中，使合并后的数组同样按 非递减顺序 排列。\n",
    "\n",
    "注意：最终，合并后数组不应由函数返回，而是存储在数组 nums1 中。为了应对这种情况，nums1 的初始长度为 m + n，其中前 m 个元素表示应合并的元素，后 n 个元素为 0 ，应忽略。nums2 的长度为 n 。"
   ]
  },
  {
   "cell_type": "code",
   "execution_count": 1,
   "id": "f9812726",
   "metadata": {},
   "outputs": [
    {
     "name": "stderr",
     "output_type": "stream",
     "text": [
      "\u001b[1minput_line_8:17:49: \u001b[0m\u001b[0;1;35mwarning: \u001b[0m\u001b[1munsequenced modification and access to 'j' [-Wunsequenced]\u001b[0m\n",
      "        while (j >= 0)                  nums1[j --] = nums2[j];\n",
      "\u001b[0;1;32m                                                ^           ~\n",
      "\u001b[0m"
     ]
    }
   ],
   "source": [
    "#include <iostream>\n",
    "#include <vector>\n",
    "using namespace std;\n",
    "\n",
    "class Solution {\n",
    "public:\n",
    "    void merge(vector<int>& nums1, int m, vector<int>& nums2, int n) {\n",
    "        if (n == 0)     return ; \n",
    "        if (m == 0){\n",
    "            nums1 = nums2;\n",
    "            return ;\n",
    "        }\n",
    "\n",
    "        int i = m-1, j = n-1, k = n+m-1;\n",
    "        while (i >= 0&&j >= 0){\n",
    "            if (nums1[i] >= nums2[j])   nums1[k --] = nums1[i --];\n",
    "            else                        nums1[k --] = nums2[j --];\n",
    "        }\n",
    "        \n",
    "        while (j >= 0)                  nums1[j --] = nums2[j];\n",
    "        \n",
    "\n",
    "    }\n",
    "};\n"
   ]
  },
  {
   "cell_type": "markdown",
   "id": "f4c61c35",
   "metadata": {},
   "source": [
    "- 注意：如果nums2中存在比nums1中最小还小的数，则需要把这些数字覆盖过去"
   ]
  },
  {
   "cell_type": "code",
   "execution_count": null,
   "id": "595d55a5",
   "metadata": {},
   "outputs": [],
   "source": []
  }
 ],
 "metadata": {
  "kernelspec": {
   "display_name": "C++11",
   "language": "C++11",
   "name": "xcpp11"
  },
  "language_info": {
   "codemirror_mode": "text/x-c++src",
   "file_extension": ".cpp",
   "mimetype": "text/x-c++src",
   "name": "c++",
   "version": "11"
  }
 },
 "nbformat": 4,
 "nbformat_minor": 5
}
