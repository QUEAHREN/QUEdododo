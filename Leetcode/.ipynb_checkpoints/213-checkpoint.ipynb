{
 "cells": [
  {
   "cell_type": "markdown",
   "id": "afb80e63",
   "metadata": {},
   "source": [
    "# 213. 打家劫舍 II\n",
    "你是一个专业的小偷，计划偷窃沿街的房屋，每间房内都藏有一定的现金。这个地方所有的房屋都 围成一圈 ，这意味着第一个房屋和最后一个房屋是紧挨着的。同时，相邻的房屋装有相互连通的防盗系统，如果两间相邻的房屋在同一晚上被小偷闯入，系统会自动报警 。\n",
    "\n",
    "给定一个代表每个房屋存放金额的非负整数数组，计算你 在不触动警报装置的情况下 ，今晚能够偷窃到的最高金额。"
   ]
  },
  {
   "cell_type": "code",
   "execution_count": 1,
   "id": "6f837053",
   "metadata": {},
   "outputs": [],
   "source": [
    "#include <iostream>\n",
    "#include <string>\n",
    "using namespace std;\n",
    "\n",
    "class Solution {\n",
    "public:\n",
    "\n",
    "    int rob(vector<int>& nums) {\n",
    "        int len = nums.size();\n",
    "        if (len == 1)   return nums[0];\n",
    "        if (len == 2)   return max(nums[0], nums[1]);\n",
    "        int res1, res2;\n",
    "\n",
    "        vector<int> money(len-1);\n",
    "        money[0] = nums[0];\n",
    "        money[1] = max(nums[1], nums[0]);\n",
    "        for (int i = 2; i < len - 1; i ++)  money[i] = max(money[i-1], money[i-2] + nums[i]);\n",
    "        res1 = max(money[len-3], money[len-2]);\n",
    "        // cout << res1 << endl;\n",
    "        money.clear();\n",
    "        money[0] = nums[1];\n",
    "        money[1] = max(nums[1], nums[2]);\n",
    "        for (int i = 3; i < len; i ++)      money[i-1] = max(money[i-2], money[i-3] + nums[i]);\n",
    "        res2 = max(money[len-3], money[len-2]);\n",
    "        // cout << res2 << endl;\n",
    "        return max(res1, res2);\n",
    "    }\n",
    "\n",
    "};\n",
    "\n"
   ]
  },
  {
   "cell_type": "markdown",
   "id": "999743c0",
   "metadata": {},
   "source": [
    "- 环状分成两个区间考虑即可"
   ]
  },
  {
   "cell_type": "code",
   "execution_count": null,
   "id": "f282eb75",
   "metadata": {},
   "outputs": [],
   "source": []
  }
 ],
 "metadata": {
  "kernelspec": {
   "display_name": "C++11",
   "language": "C++11",
   "name": "xcpp11"
  },
  "language_info": {
   "codemirror_mode": "text/x-c++src",
   "file_extension": ".cpp",
   "mimetype": "text/x-c++src",
   "name": "c++",
   "version": "11"
  }
 },
 "nbformat": 4,
 "nbformat_minor": 5
}
