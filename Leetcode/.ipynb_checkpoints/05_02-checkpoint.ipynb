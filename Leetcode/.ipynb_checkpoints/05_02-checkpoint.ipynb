{
 "cells": [
  {
   "cell_type": "markdown",
   "id": "0d8f5915",
   "metadata": {},
   "source": [
    "# 面试题 05.02. 二进制数转字符串\n",
    "二进制数转字符串。给定一个介于 0 和 1 之间的实数（如 0.72），类型为 double，打印它的二进制表达式。如果该数字无法精确地用 32 位以内的二进制表示，则打印 “ERROR”。"
   ]
  },
  {
   "cell_type": "code",
   "execution_count": 2,
   "id": "939766d5",
   "metadata": {},
   "outputs": [],
   "source": [
    "#include <iostream>\n",
    "#include <string>\n",
    "using namespace std;\n",
    "\n",
    "class Solution {\n",
    "public:\n",
    "    string printBin(double num) {\n",
    "\n",
    "        char numb[34] = \"0.\";\n",
    "        int i = 2;\n",
    "\n",
    "        while (i < 33){\n",
    "            num *= 2;\n",
    "            if (num >= 1){\n",
    "                numb[i] = '1';\n",
    "                if (num == 1){\n",
    "                    break;\n",
    "                }\n",
    "                num -= 1;\n",
    "            }\n",
    "            else            numb[i] = '0';\n",
    "            i ++;\n",
    "        }\n",
    "\n",
    "        \n",
    "        if (i > 31) return \"ERROR\";\n",
    "\n",
    "        return numb;\n",
    "    }\n",
    "};"
   ]
  },
  {
   "cell_type": "code",
   "execution_count": null,
   "id": "c3d74120",
   "metadata": {},
   "outputs": [],
   "source": []
  }
 ],
 "metadata": {
  "kernelspec": {
   "display_name": "C++11",
   "language": "C++11",
   "name": "xcpp11"
  },
  "language_info": {
   "codemirror_mode": "text/x-c++src",
   "file_extension": ".cpp",
   "mimetype": "text/x-c++src",
   "name": "c++",
   "version": "11"
  }
 },
 "nbformat": 4,
 "nbformat_minor": 5
}
