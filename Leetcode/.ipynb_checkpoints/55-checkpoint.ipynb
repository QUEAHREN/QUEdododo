{
 "cells": [
  {
   "cell_type": "markdown",
   "id": "1ef8b272",
   "metadata": {},
   "source": [
    "# 55. 跳跃游戏\n",
    "给定一个非负整数数组 nums ，你最初位于数组的 第一个下标 。\n",
    "数组中的每个元素代表你在该位置可以跳跃的最大长度。\n",
    "判断你是否能够到达最后一个下标。\n"
   ]
  },
  {
   "cell_type": "code",
   "execution_count": 3,
   "id": "91fb1431",
   "metadata": {},
   "outputs": [],
   "source": [
    "#include <iostream>\n",
    "#include <vector>\n",
    "using namespace std;\n",
    "\n",
    "class Solution {\n",
    "public:\n",
    "    bool canJump(vector<int>& nums) {\n",
    "        \n",
    "        int zf = -1;\n",
    "        for (int i = nums.size()-2; i >= 0; i --){\n",
    "            if (nums[i] == 0&&zf == -1)         zf = i;\n",
    "            if (zf != -1&&nums[i] + i > zf)     zf = -1;\n",
    "        }\n",
    "\n",
    "        return zf == -1?true:false;\n",
    "\n",
    "    }\n",
    "};"
   ]
  },
  {
   "cell_type": "markdown",
   "id": "5762873d",
   "metadata": {},
   "source": [
    "- 简单DP"
   ]
  },
  {
   "cell_type": "code",
   "execution_count": null,
   "id": "ec645f42",
   "metadata": {},
   "outputs": [],
   "source": []
  }
 ],
 "metadata": {
  "kernelspec": {
   "display_name": "C++11",
   "language": "C++11",
   "name": "xcpp11"
  },
  "language_info": {
   "codemirror_mode": "text/x-c++src",
   "file_extension": ".cpp",
   "mimetype": "text/x-c++src",
   "name": "c++",
   "version": "11"
  }
 },
 "nbformat": 4,
 "nbformat_minor": 5
}
