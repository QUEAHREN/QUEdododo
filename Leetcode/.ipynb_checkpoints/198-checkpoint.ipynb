{
 "cells": [
  {
   "cell_type": "markdown",
   "id": "a43f37dc",
   "metadata": {},
   "source": [
    "# 198. 打家劫舍\n",
    "你是一个专业的小偷，计划偷窃沿街的房屋。每间房内都藏有一定的现金，影响你偷窃的唯一制约因素就是相邻的房屋装有相互连通的防盗系统，如果两间相邻的房屋在同一晚上被小偷闯入，系统会自动报警。\n",
    "\n",
    "给定一个代表每个房屋存放金额的非负整数数组，计算你 不触动警报装置的情况下 ，一夜之内能够偷窃到的最高金额。"
   ]
  },
  {
   "cell_type": "code",
   "execution_count": 1,
   "id": "5064a953",
   "metadata": {},
   "outputs": [],
   "source": [
    "#include <iostream>\n",
    "#include <vector>\n",
    "using namespace std;\n",
    "\n",
    "class Solution {\n",
    "public:\n",
    "    int rob(vector<int>& nums) {\n",
    "        \n",
    "        int len = nums.size();\n",
    "        if (len == 1)   return nums[0];\n",
    "\n",
    "        vector<int> money(len);\n",
    "        money[0] = nums[0];\n",
    "        money[1] = max(nums[1], nums[0]);\n",
    "\n",
    "        for (int i = 2; i < len; i ++)  money[i] = max(money[i-1], money[i-2] + nums[i]);\n",
    "\n",
    "        return max(money[len-2], money[len-1]);\n",
    "\n",
    "    }\n",
    "};\n"
   ]
  },
  {
   "cell_type": "markdown",
   "id": "796f739a",
   "metadata": {},
   "source": [
    "- 注意边界条件，单输入的情况注意考虑"
   ]
  },
  {
   "cell_type": "code",
   "execution_count": null,
   "id": "95bdc0a8",
   "metadata": {},
   "outputs": [],
   "source": []
  }
 ],
 "metadata": {
  "kernelspec": {
   "display_name": "C++11",
   "language": "C++11",
   "name": "xcpp11"
  },
  "language_info": {
   "codemirror_mode": "text/x-c++src",
   "file_extension": ".cpp",
   "mimetype": "text/x-c++src",
   "name": "c++",
   "version": "11"
  }
 },
 "nbformat": 4,
 "nbformat_minor": 5
}
