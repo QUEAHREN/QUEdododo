{
 "cells": [
  {
   "cell_type": "markdown",
   "id": "118bd179",
   "metadata": {},
   "source": [
    "# 977. 有序数组的平方\n",
    "给你一个按 非递减顺序 排序的整数数组 nums，返回 每个数字的平方 组成的新数组，要求也按 非递减顺序 排序。\n"
   ]
  },
  {
   "cell_type": "code",
   "execution_count": 7,
   "id": "2350eb4e",
   "metadata": {},
   "outputs": [],
   "source": [
    "#include <vector>\n",
    "using namespace std;\n",
    "\n",
    "class Solution {\n",
    "public:\n",
    "    vector<int> sortedSquares(vector<int>& nums) {\n",
    "\n",
    "        int n = nums.size();\n",
    "        vector<int> result(n);\n",
    "        \n",
    "        for (int i = 0, j = n - 1, pos = n - 1; i <= j;) {\n",
    "            if (nums[i] * nums[i] > nums[j] * nums[j]) {\n",
    "                result[pos] = nums[i] * nums[i];\n",
    "                ++i;\n",
    "            }\n",
    "            else {\n",
    "                result[pos] = nums[j] * nums[j];\n",
    "                --j;\n",
    "            }\n",
    "            --pos;\n",
    "        }\n",
    "        \n",
    "        return result;\n",
    "\n",
    "    }\n",
    "};"
   ]
  },
  {
   "cell_type": "code",
   "execution_count": null,
   "id": "0acbe173",
   "metadata": {},
   "outputs": [],
   "source": []
  }
 ],
 "metadata": {
  "kernelspec": {
   "display_name": "C++11",
   "language": "C++11",
   "name": "xcpp11"
  },
  "language_info": {
   "codemirror_mode": "text/x-c++src",
   "file_extension": ".cpp",
   "mimetype": "text/x-c++src",
   "name": "c++",
   "version": "11"
  }
 },
 "nbformat": 4,
 "nbformat_minor": 5
}
