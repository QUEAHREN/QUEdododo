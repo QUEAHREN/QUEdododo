{
 "cells": [
  {
   "cell_type": "markdown",
   "id": "c3e66c97",
   "metadata": {},
   "source": [
    "# 206. 反转链表\n",
    "给你单链表的头节点 head ，请你反转链表，并返回反转后的链表。"
   ]
  },
  {
   "cell_type": "code",
   "execution_count": null,
   "id": "023f9a72",
   "metadata": {},
   "outputs": [],
   "source": [
    "#include <iostream>\n",
    "using namespace std;\n",
    "\n",
    "/**\n",
    " * Definition for singly-linked list.\n",
    " * struct ListNode {\n",
    " *     int val;\n",
    " *     ListNode *next;\n",
    " *     ListNode() : val(0), next(nullptr) {}\n",
    " *     ListNode(int x) : val(x), next(nullptr) {}\n",
    " *     ListNode(int x, ListNode *next) : val(x), next(next) {}\n",
    " * };\n",
    " */\n",
    "class Solution {\n",
    "public:\n",
    "\n",
    "    ListNode* linkNode(ListNode* prenode, ListNode* node) {\n",
    "        ListNode* nextnode = node->next;\n",
    "        node->next = prenode;\n",
    "        return nextnode;\n",
    "    }\n",
    "    ListNode* reverseList(ListNode* head) {\n",
    "\n",
    "        //考虑边界情况！\n",
    "\n",
    "        ListNode* prenode;\n",
    "        ListNode* node;\n",
    "        //空链表\n",
    "        if (!head)      return head;\n",
    "        //单元素\n",
    "        if (head->next) {\n",
    "            prenode = head->next;\n",
    "            head->next = nullptr;\n",
    "        }\n",
    "        else    return head;\n",
    "        //两个元素\n",
    "        if (prenode->next) {\n",
    "            node = prenode->next;\n",
    "            prenode->next = head;\n",
    "        }\n",
    "        else{\n",
    "            prenode->next = head;\n",
    "            return prenode;\n",
    "        }\n",
    "\n",
    "        //两个及以上\n",
    "        while(node->next){\n",
    "            ListNode* nextnode = linkNode(prenode, node);\n",
    "            prenode = node;\n",
    "            node = nextnode;\n",
    "        }\n",
    "        node->next = prenode;\n",
    "        return node;\n",
    "\n",
    "    }\n",
    "};"
   ]
  },
  {
   "cell_type": "code",
   "execution_count": null,
   "id": "0690a29a",
   "metadata": {},
   "outputs": [],
   "source": []
  }
 ],
 "metadata": {
  "kernelspec": {
   "display_name": "C++11",
   "language": "C++11",
   "name": "xcpp11"
  },
  "language_info": {
   "codemirror_mode": "text/x-c++src",
   "file_extension": ".cpp",
   "mimetype": "text/x-c++src",
   "name": "c++",
   "version": "11"
  }
 },
 "nbformat": 4,
 "nbformat_minor": 5
}
