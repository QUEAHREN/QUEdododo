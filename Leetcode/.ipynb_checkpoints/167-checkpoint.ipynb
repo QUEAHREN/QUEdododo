{
 "cells": [
  {
   "cell_type": "markdown",
   "id": "68624e1c",
   "metadata": {},
   "source": [
    "# 167. 两数之和 II - 输入有序数组\n",
    "\n",
    "给你一个下标从 1 开始的整数数组 numbers ，该数组已按 非递减顺序排列  ，请你从数组中找出满足相加之和等于目标数 target 的两个数。如果设这两个数分别是 numbers[index1] 和 numbers[index2] ，则 1 <= index1 < index2 <= numbers.length 。\n",
    "\n",
    "以长度为 2 的整数数组 [index1, index2] 的形式返回这两个整数的下标 index1 和 index2。\n",
    "\n",
    "你可以假设每个输入 只对应唯一的答案 ，而且你 不可以 重复使用相同的元素。\n",
    "\n",
    "你所设计的解决方案必须只使用常量级的额外空间。\n",
    "\n"
   ]
  },
  {
   "cell_type": "code",
   "execution_count": 1,
   "id": "83008821",
   "metadata": {},
   "outputs": [],
   "source": [
    "#include <iostream>\n",
    "#include <string>\n",
    "using namespace std;\n",
    "\n",
    "class Solution {\n",
    "public:\n",
    "    vector<int> twoSum(vector<int>& numbers, int target) {\n",
    "\n",
    "        vector<int> result;\n",
    "        int i = 0, j = numbers.size() - 1;\n",
    "        while(i < j){\n",
    "            int sum = numbers[i] + numbers[j];\n",
    "            if (target == sum)  break;\n",
    "            if (sum < target)   i ++;\n",
    "            if (sum > target)   j --;\n",
    "        }\n",
    "        result.push_back(i + 1);\n",
    "        result.push_back(j + 1);\n",
    "        return result;\n",
    "\n",
    "    }\n",
    "};"
   ]
  }
 ],
 "metadata": {
  "kernelspec": {
   "display_name": "C++11",
   "language": "C++11",
   "name": "xcpp11"
  },
  "language_info": {
   "codemirror_mode": "text/x-c++src",
   "file_extension": ".cpp",
   "mimetype": "text/x-c++src",
   "name": "c++",
   "version": "11"
  }
 },
 "nbformat": 4,
 "nbformat_minor": 5
}
