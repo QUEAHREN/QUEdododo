{
 "cells": [
  {
   "cell_type": "markdown",
   "id": "4d6b0c74",
   "metadata": {},
   "source": [
    "# 189. 轮转数组\n",
    "给你一个数组，将数组中的元素向右轮转 k 个位置，其中 k 是非负数。"
   ]
  },
  {
   "cell_type": "code",
   "execution_count": 2,
   "id": "36e14a07",
   "metadata": {},
   "outputs": [],
   "source": [
    "#include <vector>\n",
    "#include <iostream>\n",
    "using namespace std;\n",
    "  \n",
    "class Solution {\n",
    "public:\n",
    "\n",
    "    void reverse(vector<int>& nums, int l, int r) {\n",
    "        while (l < r)    swap(nums[l ++], nums[r --]);\n",
    "    }\n",
    "\n",
    "\n",
    "    void rotate(vector<int>& nums, int k) {\n",
    "\n",
    "        int n = nums.size();\n",
    "        int l = 0, r = n - 1;\n",
    "        reverse(nums, l, r);\n",
    "        reverse(nums, l, k%n - 1);\n",
    "        reverse(nums, k%n, r);\n",
    "        \n",
    "    }\n",
    "};\n"
   ]
  },
  {
   "cell_type": "code",
   "execution_count": null,
   "id": "407bb159",
   "metadata": {},
   "outputs": [],
   "source": []
  },
  {
   "cell_type": "code",
   "execution_count": null,
   "id": "4ba1b242",
   "metadata": {},
   "outputs": [],
   "source": []
  }
 ],
 "metadata": {
  "kernelspec": {
   "display_name": "C++11",
   "language": "C++11",
   "name": "xcpp11"
  },
  "language_info": {
   "codemirror_mode": "text/x-c++src",
   "file_extension": ".cpp",
   "mimetype": "text/x-c++src",
   "name": "c++",
   "version": "11"
  }
 },
 "nbformat": 4,
 "nbformat_minor": 5
}
